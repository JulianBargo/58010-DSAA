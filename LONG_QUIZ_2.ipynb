{
  "nbformat": 4,
  "nbformat_minor": 0,
  "metadata": {
    "colab": {
      "provenance": [],
      "authorship_tag": "ABX9TyN6jvgboYFlv+DAXsH3VD/O",
      "include_colab_link": true
    },
    "kernelspec": {
      "name": "python3",
      "display_name": "Python 3"
    },
    "language_info": {
      "name": "python"
    }
  },
  "cells": [
    {
      "cell_type": "markdown",
      "metadata": {
        "id": "view-in-github",
        "colab_type": "text"
      },
      "source": [
        "<a href=\"https://colab.research.google.com/github/JulianBargo/58010-DSAA/blob/main/LONG_QUIZ_2.ipynb\" target=\"_parent\"><img src=\"https://colab.research.google.com/assets/colab-badge.svg\" alt=\"Open In Colab\"/></a>"
      ]
    },
    {
      "cell_type": "markdown",
      "source": [
        "Implement the graph using Python dictionaries. This must display all the vertices and edges of the graph."
      ],
      "metadata": {
        "id": "Wnq2k_TYaTyB"
      }
    },
    {
      "cell_type": "code",
      "execution_count": 1,
      "metadata": {
        "colab": {
          "base_uri": "https://localhost:8080/"
        },
        "id": "pvVsUMVAaLD3",
        "outputId": "4f8f38da-7d7b-4526-eadb-d7867bbe7bad"
      },
      "outputs": [
        {
          "output_type": "stream",
          "name": "stdout",
          "text": [
            "[{'I', 'E'}, {'J', 'E'}, {'K', 'E'}, {'E', 'M'}, {'I', 'F'}, {'J', 'F'}, {'K', 'F'}, {'F', 'P'}, {'I', 'H'}, {'J', 'H'}, {'K', 'H'}]\n",
            "['E', 'F', 'H', 'I', 'J', 'K', 'M', 'P']\n"
          ]
        }
      ],
      "source": [
        "class graphing:\n",
        "  def __init__(self,gdictionary=None):\n",
        "    if gdictionary is None:\n",
        "      dictionary = {}\n",
        "    self.gdictionary = gdictionary\n",
        "  def edges(self):\n",
        "        return self.findedges()\n",
        "  def getVertices(self):\n",
        "    return list(self.gdictionary.keys())\n",
        "  def findedges(self):\n",
        "    edgename = []\n",
        "    for vrtx in self.gdictionary:\n",
        "      for nxtvrtx in self.gdictionary[vrtx]:\n",
        "        if {nxtvrtx, vrtx} not in edgename:\n",
        "          edgename.append({vrtx, nxtvrtx})\n",
        "    return edgename\n",
        "graph_elements = {\"E\" : [\"I\",\"J\",\"K\",\"M\"],\"F\" : [\"I\",\"J\",\"K\",\"P\"],\"H\" : [\"I\",\"J\",\"K\"],\"I\" : [\"E\",\"F\",\"H\"],\"J\" : [\"E\",\"F\",\"H\"], \"K\" : [\"E\",\"F\",\"H\"], \"M\" : [\"E\"], \"P\" : [\"F\"]}\n",
        "g = graphing(graph_elements)\n",
        "print(g.edges())\n",
        "print(g.getVertices())"
      ]
    }
  ]
}