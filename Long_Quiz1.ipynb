{
  "nbformat": 4,
  "nbformat_minor": 0,
  "metadata": {
    "colab": {
      "provenance": [],
      "authorship_tag": "ABX9TyPwT5ZMspxnX4hkmr5HFs9v",
      "include_colab_link": true
    },
    "kernelspec": {
      "name": "python3",
      "display_name": "Python 3"
    },
    "language_info": {
      "name": "python"
    }
  },
  "cells": [
    {
      "cell_type": "markdown",
      "metadata": {
        "id": "view-in-github",
        "colab_type": "text"
      },
      "source": [
        "<a href=\"https://colab.research.google.com/github/JulianBargo/58010-DSAA/blob/main/Long_Quiz1.ipynb\" target=\"_parent\"><img src=\"https://colab.research.google.com/assets/colab-badge.svg\" alt=\"Open In Colab\"/></a>"
      ]
    },
    {
      "cell_type": "markdown",
      "source": [
        "Create a python or C++ program that appends each character of your full name and displays each character in reverse order"
      ],
      "metadata": {
        "id": "ey_zhAzdPT2U"
      }
    },
    {
      "cell_type": "code",
      "execution_count": 3,
      "metadata": {
        "colab": {
          "base_uri": "https://localhost:8080/"
        },
        "id": "OoJyjj5hPRLM",
        "outputId": "82214a47-0ce1-49a0-d1f2-0d506cfea131"
      },
      "outputs": [
        {
          "output_type": "stream",
          "name": "stdout",
          "text": [
            "['O', 'G', 'R', 'A', 'B', ' ', 'S', 'O', 'L', 'R', 'A', 'C', ' ', 'N', 'A', 'I', 'L', 'U', 'J', ' : name ']\n"
          ]
        }
      ],
      "source": [
        "character = [ \" : name \"]\n",
        "character.append(\"J\")\n",
        "character.append(\"U\")\n",
        "character.append(\"L\")\n",
        "character.append(\"I\")\n",
        "character.append(\"A\")\n",
        "character.append(\"N\")\n",
        "character.append(\" \")\n",
        "character.append(\"C\")\n",
        "character.append(\"A\")\n",
        "character.append(\"R\")\n",
        "character.append(\"L\")\n",
        "character.append(\"O\")\n",
        "character.append(\"S\")\n",
        "character.append(\" \")\n",
        "character.append(\"B\")\n",
        "character.append(\"A\")\n",
        "character.append(\"R\")\n",
        "character.append(\"G\")\n",
        "character.append(\"O\")\n",
        "character.reverse()\n",
        "\n",
        "print(character)"
      ]
    },
    {
      "cell_type": "markdown",
      "source": [
        "Using the set of positive whole numbers from 1 to 10, create a python or C++ program that displays if it is prime or composite."
      ],
      "metadata": {
        "id": "nRUZ-cdLSDos"
      }
    },
    {
      "cell_type": "code",
      "source": [
        "def prime(num):\n",
        "    if num <= 1:\n",
        "        return False\n",
        "    if num == 2:\n",
        "        return True\n",
        "    if num % 2 == 0:\n",
        "        return False\n",
        "    for i in range(3, int(num ** 0.5) + 1, 2):\n",
        "        if num % i == 0:\n",
        "            return False\n",
        "    return True\n",
        "\n",
        "numbers = list(range(1, 11))\n",
        "results = []\n",
        "\n",
        "for num in numbers:\n",
        "    if prime(num):\n",
        "        results.append(f\"{num} : prime number.\")\n",
        "    else:\n",
        "        results.append(f\"{num} : composite number.\")\n",
        "\n",
        "for result in results:\n",
        "    print(result)\n"
      ],
      "metadata": {
        "colab": {
          "base_uri": "https://localhost:8080/"
        },
        "id": "ocDgfs-BSC4-",
        "outputId": "9780ec39-f5eb-4cd6-d6cc-26b77b01e658"
      },
      "execution_count": 3,
      "outputs": [
        {
          "output_type": "stream",
          "name": "stdout",
          "text": [
            "1 : composite number.\n",
            "2 : prime number.\n",
            "3 : prime number.\n",
            "4 : composite number.\n",
            "5 : prime number.\n",
            "6 : composite number.\n",
            "7 : prime number.\n",
            "8 : composite number.\n",
            "9 : composite number.\n",
            "10 : composite number.\n"
          ]
        }
      ]
    }
  ]
}